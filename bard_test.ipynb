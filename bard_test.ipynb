{
 "cells": [
  {
   "cell_type": "code",
   "execution_count": null,
   "id": "4dae58d3-3ea3-483e-8c2b-834eb72f75b8",
   "metadata": {},
   "outputs": [],
   "source": [
    "f12cookie_token = \"dQiYn2JoIsHWU3SLOjLyFCWky7Fyo5WBtj_gNnHG-L7eQXWjebm-x23Hl8csMRL2nH_cwg.\"\n",
    "\n",
    "\n",
    "from bardapi import Bard\n",
    "import os\n",
    "\n",
    "# Change 'http://proxy.example.com:8080' to your http proxy\n",
    "# timeout in seconds\n",
    "proxies = {\n",
    "    'http': 'http://127.0.0.1:8998',\n",
    "    'https': 'https://127.0.0.1:8998'\n",
    "}\n",
    "\n",
    "bard = Bard(token=f12cookie_token, proxies=None, timeout=30)\n",
    "bard.get_answer(\"当你无法处理和理解或不能回答时，文字输出'...'。现在你是一个优秀的助手，有人发表了评论'说说以巴战争'，请回复纯文字\")['content']"
   ]
  },
  {
   "cell_type": "code",
   "execution_count": null,
   "id": "56e27bf7-c554-4599-8862-9acc30846458",
   "metadata": {},
   "outputs": [],
   "source": [
    "from bardapi import Bard\n",
    "import os\n",
    "import requests\n",
    "os.environ['_BARD_API_KEY'] = f12cookie_token\n",
    "token=f12cookie_token\n",
    "\n",
    "session = requests.Session()\n",
    "session.headers = {\n",
    "            \"Host\": \"bard.google.com\",\n",
    "            \"X-Same-Domain\": \"1\",\n",
    "            \"User-Agent\": \"Mozilla/5.0 (Windows NT 10.0; WOW64) AppleWebKit/537.36 (KHTML, like Gecko) Chrome/91.0.4472.114 Safari/537.36\",\n",
    "            \"Content-Type\": \"application/x-www-form-urlencoded;charset=UTF-8\",\n",
    "            \"Origin\": \"https://bard.google.com\",\n",
    "            \"Referer\": \"https://bard.google.com/\",\n",
    "        }\n",
    "session.cookies.set(\"__Secure-1PSID\", os.getenv(\"_BARD_API_KEY\")) \n",
    "# session.cookies.set(\"__Secure-1PSID\", token) \n",
    "\n",
    "bard = Bard(token=token, session=session, timeout=30)\n",
    "\n",
    "print(bard.get_answer(\"tell me what is 1 + 1\")['content'])\n",
    "\n",
    "# Continued conversation without set new session\n",
    "print(bard.get_answer(\"What is my last prompt??\")['content'])"
   ]
  },
  {
   "cell_type": "code",
   "execution_count": 136,
   "id": "7222bb83-1e4c-4f61-8d26-8d5943d5d8fe",
   "metadata": {},
   "outputs": [
    {
     "data": {
      "text/plain": [
       "'Response Error: b\\')]}\\\\\\'\\\\n\\\\n38\\\\n[[\"wrb.fr\",null,null,null,null,[8]]]\\\\n55\\\\n[[\"di\",62],[\"af.httprm\",62,\"-1507840780984343412\",3]]\\\\n25\\\\n[[\"e\",4,null,null,130]]\\\\n\\'. \\nUnable to get response.\\nPlease double-check the cookie values and verify your network environment or google account.'"
      ]
     },
     "execution_count": 136,
     "metadata": {},
     "output_type": "execute_result"
    }
   ],
   "source": [
    "bard.get_answer(\"当你无法处理和理解或不能回答时，文字输出'...'\")['content']"
   ]
  },
  {
   "cell_type": "code",
   "execution_count": 167,
   "id": "cc54ae78-690d-4f91-a0b1-84ed3cbfd17c",
   "metadata": {},
   "outputs": [
    {
     "data": {
      "text/plain": [
       "'Sure, here is an analysis of the log:\\n\\nThe provided log file contains a series of HTTP requests made to the `/api/mangaface` endpoint. The requests are made from various IP addresses, including 172.70.111.95, 172.70.38.172, and 172.70.134.18. The requests are all successful, with a status code of 200.\\n\\nThe requests are made with the following headers:\\n\\n* `Host: datawithhack.com`\\n* `X-Real-IP: 172.70.111.95`\\n* `X-Forwarded-Proto: https`\\n* `X-Forwarded-For: 172.70.111.95`\\n* `Connection: close`\\n* `Accept-Encoding: gzip`\\n* `CF-Ray: 8356ac553c0317f1-EWR`\\n* `CF-Visitor: {\"scheme\":\"https\"}`\\n* `Sec-Ch-UA: \"Chromium\";v=\"119\", \"Not?A_Brand\";v=\"24\"`\\n* `Sec-Ch-UA-Mobile: ?0`\\n* `User-Agent: Mozilla/5.0 (X11; Linux x86_64) AppleWebKit/537.36 (KHTML, like Gecko) Chrome/119.0.0.0 Safari/537.36`\\n* `Sec-Ch-UA-Platform: \"Linux\"`\\n* `Accept: */*`\\n* `Sec-Fetch-Site: same-origin`\\n* `Sec-Fetch-Mode: cors`\\n* `Sec-Fetch-Dest: empty`\\n* `Referer: https://datawithhack.com/HentaiFace`\\n* `Accept-Language: zh-CN,zh-HK;q=0.9,zh;q=0.8`\\n* `CF-Connecting-IP: 141.11.212.148`\\n* `cdn-loop: cloudflare`\\n* `cf-ipcountry: US`\\n\\nThe requests are made with the following query parameters:\\n\\n* `source=NULL`\\n* `search_str=dummy`\\n\\nThe `source=NULL` query parameter seems to indicate that the request is made by a bot, rather than a human user. The `search_str=dummy` query parameter suggests that the bot is searching for a specific image, but it is not providing any context for the search.\\n\\nBased on this analysis, it is likely that the provided log file contains data from a bot that is crawling the `/api/mangaface` endpoint. The bot is likely searching for images of anime characters, but it is not providing any specific information about the images that it is looking for.'"
      ]
     },
     "execution_count": 167,
     "metadata": {},
     "output_type": "execute_result"
    }
   ],
   "source": [
    "bard.get_answer(\"analyst this log \\n\"+logtext)['content']"
   ]
  },
  {
   "cell_type": "code",
   "execution_count": 164,
   "id": "9391cbfe-b046-4820-bf7e-2e7137e44b48",
   "metadata": {},
   "outputs": [],
   "source": [
    "logtext=\"\"\"\n",
    "[2023-12-14 21:08:02,148] {dependencies.py:16} INFO - Headers({'host': 'datawithhack.com', 'x-real-ip': '172.70.111.95', 'x-forwarded-proto': 'https', 'x-forwarded-for': '172.70.111.95', 'connection': 'close', 'accept-encoding': 'gzip', 'cf-ray': '8356ac553c0317f1-EWR', 'cf-visitor': '{\"scheme\":\"https\"}', 'sec-ch-ua': '\"Chromium\";v=\"119\", \"Not?A_Brand\";v=\"24\"', 'sec-ch-ua-mobile': '?0', 'user-agent': 'Mozilla/5.0 (X11; Linux x86_64) AppleWebKit/537.36 (KHTML, like Gecko) Chrome/119.0.0.0 Safari/537.36', 'sec-ch-ua-platform': '\"Linux\"', 'accept': '*/*', 'sec-fetch-site': 'same-origin', 'sec-fetch-mode': 'cors', 'sec-fetch-dest': 'empty', 'referer': 'https://datawithhack.com/HentaiFace', 'accept-language': 'zh-CN,zh-HK;q=0.9,zh;q=0.8', 'cf-connecting-ip': '141.11.212.148', 'cdn-loop': 'cloudflare', 'cf-ipcountry': 'US'})\n",
    "[2023-12-14 21:08:02,153] {dependencies.py:17} INFO - \n",
    "172.70.111.95:0 - \"GET /api/mangaface HTTP/1.0\" 200\n",
    "[2023-12-14 21:08:10,931] {dependencies.py:14} INFO - 11111\n",
    "[2023-12-14 21:08:10,934] {dependencies.py:15} INFO - /api/mangaface\n",
    "[2023-12-14 21:08:10,935] {dependencies.py:16} INFO - Headers({'host': 'datawithhack.com', 'x-real-ip': '172.70.111.95', 'x-forwarded-proto': 'https', 'x-forwarded-for': '172.70.111.95', 'connection': 'close', 'accept-encoding': 'gzip', 'cf-ray': '8356ac8ffad217f1-EWR', 'cf-visitor': '{\"scheme\":\"https\"}', 'sec-ch-ua': '\"Chromium\";v=\"119\", \"Not?A_Brand\";v=\"24\"', 'sec-ch-ua-mobile': '?0', 'user-agent': 'Mozilla/5.0 (X11; Linux x86_64) AppleWebKit/537.36 (KHTML, like Gecko) Chrome/119.0.0.0 Safari/537.36', 'sec-ch-ua-platform': '\"Linux\"', 'accept': '*/*', 'sec-fetch-site': 'same-origin', 'sec-fetch-mode': 'cors', 'sec-fetch-dest': 'empty', 'referer': 'https://datawithhack.com/HentaiFace/?facekw=NULL', 'accept-language': 'zh-CN,zh-HK;q=0.9,zh;q=0.8', 'cf-connecting-ip': '141.11.212.148', 'cdn-loop': 'cloudflare', 'cf-ipcountry': 'US'})\n",
    "[2023-12-14 21:08:10,935] {dependencies.py:17} INFO - source=NULL\n",
    "172.70.111.95:0 - \"GET /api/mangaface?source=NULL HTTP/1.0\" 200\n",
    "[2023-12-15 05:21:17,526] {dependencies.py:14} INFO - 11111\n",
    "[2023-12-15 05:21:17,529] {dependencies.py:15} INFO - /api/mangaface\n",
    "[2023-12-15 05:21:17,529] {dependencies.py:16} INFO - Headers({'host': 'datawithhack.com', 'x-real-ip': '172.70.38.172', 'x-forwarded-proto': 'https', 'x-forwarded-for': '172.70.38.172', 'connection': 'close', 'accept-encoding': 'gzip', 'cf-ray': '83597ee31f3e3897-IAD', 'cf-visitor': '{\"scheme\":\"https\"}', 'accept-language': 'en-US', 'referer': 'https://datawithhack.com/HentaiFace/', 'accept': '*/*', 'from': 'googlebot(at)googlebot.com', 'user-agent': 'Mozilla/5.0 (Linux; Android 6.0.1; Nexus 5X Build/MMB29P) AppleWebKit/537.36 (KHTML, like Gecko) Chrome/120.0.6099.71 Mobile Safari/537.36 (compatible; Googlebot/2.1; +http://www.google.com/bot.html)', 'cf-connecting-ip': '66.249.66.85', 'cdn-loop': 'cloudflare', 'cf-ipcountry': 'US'})\n",
    "[2023-12-15 05:21:17,530] {dependencies.py:17} INFO - \n",
    "172.70.38.172:0 - \"GET /api/mangaface HTTP/1.0\" 200\n",
    "[2023-12-15 14:26:28,342] {dependencies.py:14} INFO - 11111\n",
    "[2023-12-15 14:26:28,343] {dependencies.py:15} INFO - /api/fund/orig/cn/list_search\n",
    "[2023-12-15 14:26:28,343] {dependencies.py:16} INFO - Headers({'host': 'datawithhack.com', 'x-real-ip': '172.70.38.223', 'x-forwarded-proto': 'https', 'x-forwarded-for': '172.70.38.223', 'connection': 'close', 'accept-encoding': 'gzip', 'cf-ray': '835c9d7db9030805-IAD', 'cf-visitor': '{\"scheme\":\"https\"}', 'accept-language': 'en-US', 'referer': 'https://datawithhack.com/cn_funds/', 'accept': '*/*', 'from': 'googlebot(at)googlebot.com', 'user-agent': 'Mozilla/5.0 (Linux; Android 6.0.1; Nexus 5X Build/MMB29P) AppleWebKit/537.36 (KHTML, like Gecko) Chrome/120.0.6099.71 Mobile Safari/537.36 (compatible; Googlebot/2.1; +http://www.google.com/bot.html)', 'cf-connecting-ip': '66.249.66.76', 'cdn-loop': 'cloudflare', 'cf-ipcountry': 'US'})\n",
    "[2023-12-15 14:26:28,344] {dependencies.py:17} INFO - search_str=dummy\n",
    "[2023-12-15 14:26:28,357] {fund_data_fetch.py:36} INFO - cn\n",
    "[2023-12-15 14:26:28,358] {fund_data_fetch.py:37} INFO - dummy\n",
    "172.70.38.223:0 - \"GET /api/fund/orig/cn/list_search?search_str=dummy HTTP/1.0\" 200\n",
    "[2023-12-16 03:47:23,568] {dependencies.py:14} INFO - 11111\n",
    "[2023-12-16 03:47:23,570] {dependencies.py:15} INFO - /api/mangaface\n",
    "[2023-12-16 03:47:23,570] {dependencies.py:16} INFO - Headers({'host': 'datawithhack.com', 'x-real-ip': '172.70.134.18', 'x-forwarded-proto': 'https', 'x-forwarded-for': '172.70.134.18', 'connection': 'close', 'accept-encoding': 'gzip', 'cf-ray': '836132b6db6c7ffa-IAD', 'cf-visitor': '{\"scheme\":\"https\"}', 'accept-language': 'en-US', 'origin': 'https://tt.xuanyuanhuangdi.org', 'referer': 'https://tt.xuanyuanhuangdi.org/', 'accept': '*/*', 'from': 'googlebot(at)googlebot.com', 'user-agent': 'Mozilla/5.0 (Linux; Android 6.0.1; Nexus 5X Build/MMB29P) AppleWebKit/537.36 (KHTML, like Gecko) Chrome/120.0.6099.71 Mobile Safari/537.36 (compatible; Googlebot/2.1; +http://www.google.com/bot.html)', 'cf-connecting-ip': '66.249.66.87', 'cdn-loop': 'cloudflare', 'cf-ipcountry': 'US'})\n",
    "[2023-12-16 03:47:23,570] {dependencies.py:17} INFO - \n",
    "172.70.134.18:0 - \"GET /api/mangaface HTTP/1.0\" 200\n",
    "\"\"\""
   ]
  }
 ],
 "metadata": {
  "kernelspec": {
   "display_name": "venv_llm",
   "language": "python",
   "name": "venv_llm"
  },
  "language_info": {
   "codemirror_mode": {
    "name": "ipython",
    "version": 3
   },
   "file_extension": ".py",
   "mimetype": "text/x-python",
   "name": "python",
   "nbconvert_exporter": "python",
   "pygments_lexer": "ipython3",
   "version": "3.11.6"
  }
 },
 "nbformat": 4,
 "nbformat_minor": 5
}
